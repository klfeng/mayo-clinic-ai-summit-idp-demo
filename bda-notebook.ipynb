{
 "cells": [
  {
   "cell_type": "markdown",
   "id": "c343f941-a163-45f6-ac9d-9477e5d20ba7",
   "metadata": {},
   "source": [
    "# Convert Unstructured Data to Structured Data using Amazon Bedrock Data Automation \n",
    "\n",
    "#### The purpose of this demo is to transform a PDF document into a CSV file, using Amazon Bedrock Data Automation (BDA). Amazon BDA is an end-to-end document processing service, powered by GenAI. Given a document image and a defined blueprint schema, BDA will return a structured output. In this notebook, we will explore how to:\n",
    "1. Create and register a blueprint schema\n",
    "2. Invoke a Bedrock Data Automation job\n",
    "3. Evaluate the job results and iterate\n",
    "#### At the end, you will have time to update the blueprint schema with additional fields and instructions for extracting those fields. Your goal is to continue iterating on the blueprint schema until you have achieved 100% accuracy.\n",
    "\n",
    "#### Directory structure:\n",
    "```\n",
    "📁 mayo-clinic-ai-summit-idp-demo/\n",
    "│\n",
    "├── 📁 input_files/\n",
    "│   ├── 📄 pathology_report.pdf\n",
    "│   └── 📊 ground_truth.csv\n",
    "│\n",
    "├── 📁 output/\n",
    "│   └── 📊 processed_pathology_report.csv\n",
    "│\n",
    "├── 📁 src/\n",
    "│   ├── 📄 bda_processor.py\n",
    "│   ├── 📄 evaluator.py\n",
    "│   └── 📄 requirements.txt\n",
    "│\n",
    "└── 📓 bda-notebook.ipynb\n",
    "```"
   ]
  },
  {
   "cell_type": "markdown",
   "id": "78c117a1",
   "metadata": {},
   "source": [
    "## Initial Setup"
   ]
  },
  {
   "cell_type": "code",
   "execution_count": null,
   "id": "c74afbe0",
   "metadata": {},
   "outputs": [],
   "source": [
    "!pip install -qq -r src/requirements.txt"
   ]
  },
  {
   "cell_type": "code",
   "execution_count": null,
   "id": "adf8e3d5-c5cd-4e52-9585-342e3a7e83b4",
   "metadata": {},
   "outputs": [],
   "source": [
    "from src.bda_processor import BDAProcessor\n",
    "from src.evaluator import Evaluator"
   ]
  },
  {
   "cell_type": "code",
   "execution_count": null,
   "id": "73e41c37",
   "metadata": {},
   "outputs": [],
   "source": [
    "bda_processor = BDAProcessor()\n",
    "evaluator = Evaluator()"
   ]
  },
  {
   "cell_type": "markdown",
   "id": "0846bfe8-0e0f-475a-9a62-ec637f9aa813",
   "metadata": {},
   "source": [
    "## Create Bedrock Data Automation Blueprint "
   ]
  },
  {
   "cell_type": "markdown",
   "id": "bdc098a9",
   "metadata": {},
   "source": [
    "#### Define blueprint schema"
   ]
  },
  {
   "cell_type": "code",
   "execution_count": null,
   "id": "57000a7f-9b13-455e-8795-af728b301197",
   "metadata": {},
   "outputs": [],
   "source": [
    "blueprint_schema = {\n",
    "    \"$schema\": \"http://json-schema.org/draft-07/schema#\",\n",
    "    \"description\": \"This is a blueprint for a pathology report\",\n",
    "    \"class\": \"Pathology Report\",\n",
    "    \"type\": \"object\",\n",
    "    \"definitions\": {},\n",
    "    \"properties\": {\n",
    "        \"hospital_name\": {\n",
    "            \"type\": \"string\",\n",
    "            \"instruction\": \"Name of hospital\"\n",
    "        },\n",
    "        \"lab_name\": {\n",
    "            \"type\": \"string\",\n",
    "            \"instruction\": \"Name of lab\"\n",
    "        },\n",
    "        \"physician_name\": {\n",
    "            \"type\": \"string\",\n",
    "            \"instruction\": \"Name of physician. Return first name and last name as a single string value\"\n",
    "        },\n",
    "        \"has_serum_specimen\": {\n",
    "            \"type\": \"string\",\n",
    "            \"instruction\": \"Whether a serum specimen was collected. Return Yes or No\"\n",
    "        }\n",
    "    }\n",
    "}\n"
   ]
  },
  {
   "cell_type": "markdown",
   "id": "2e468802-eb6b-4746-9500-06adbe6ea320",
   "metadata": {},
   "source": [
    "#### Create blueprint"
   ]
  },
  {
   "cell_type": "code",
   "execution_count": null,
   "id": "9fce00bb-26e1-48c6-ae47-17c58137391b",
   "metadata": {},
   "outputs": [],
   "source": [
    "blueprint_arn = bda_processor.create_blueprint(\n",
    "    blueprint_name=\"bda-blueprint-demo\", \n",
    "    blueprint_schema=blueprint_schema)"
   ]
  },
  {
   "cell_type": "code",
   "execution_count": null,
   "id": "6eba113c-4270-4254-853e-3b02299040d5",
   "metadata": {},
   "outputs": [],
   "source": [
    "blueprint_arn"
   ]
  },
  {
   "cell_type": "markdown",
   "id": "32a9ae7f-a3d9-4281-98dc-789f2b9ad822",
   "metadata": {},
   "source": [
    "## Invoke Bedrock Data Automation Job"
   ]
  },
  {
   "cell_type": "markdown",
   "id": "858b9255-9383-4341-8163-cd4bb7558c54",
   "metadata": {},
   "source": [
    "#### The BDA automation job is asynchronous. A job ID is returned, which will be used later to get the job results."
   ]
  },
  {
   "cell_type": "code",
   "execution_count": null,
   "id": "4d0fe124-fe33-4c19-9293-699716b3dbff",
   "metadata": {},
   "outputs": [],
   "source": [
    "job_id = bda_processor.start_data_automation(\n",
    "    file_path=\"input_files/pathology_report.pdf\", \n",
    "    blueprint_arn=blueprint_arn)"
   ]
  },
  {
   "cell_type": "code",
   "execution_count": null,
   "id": "4479ff4d-dcd1-4e9f-bde9-9c368d2f317b",
   "metadata": {},
   "outputs": [],
   "source": [
    "job_id"
   ]
  },
  {
   "cell_type": "markdown",
   "id": "9a0643b4-3d48-40d7-a6ac-d8d10ad259fa",
   "metadata": {},
   "source": [
    "#### Get BDA job results (this may take a few minutes)"
   ]
  },
  {
   "cell_type": "code",
   "execution_count": null,
   "id": "a5615d72-cd21-4953-80b4-72d521d57603",
   "metadata": {},
   "outputs": [],
   "source": [
    "bda_processor.get_data_automation_results(job_id=job_id)"
   ]
  },
  {
   "cell_type": "markdown",
   "id": "ee4aa2f5-4dd8-4c0f-bb0f-9d006d3d798a",
   "metadata": {},
   "source": [
    "## Evaluate Results"
   ]
  },
  {
   "cell_type": "markdown",
   "id": "fb3f95e9-99c9-467b-83d5-6df4ac7e6d54",
   "metadata": {},
   "source": [
    "#### Compare ground truth and BDA results"
   ]
  },
  {
   "cell_type": "code",
   "execution_count": null,
   "id": "7df3eb21-1d67-40cd-81d9-c6c015dc8f5c",
   "metadata": {},
   "outputs": [],
   "source": [
    "comparison_df = evaluator.create_comparison_df(\n",
    "    ground_truth_path=\"input_files/ground_truth.csv\",\n",
    "    results_path=\"output/processed_pathology_report.csv\"\n",
    ")"
   ]
  },
  {
   "cell_type": "code",
   "execution_count": null,
   "id": "0768a383-229c-49ef-a72f-172fec7646db",
   "metadata": {},
   "outputs": [],
   "source": [
    "comparison_df"
   ]
  },
  {
   "cell_type": "markdown",
   "id": "6f7f012e-a7a0-4264-805e-2e2a2c12656d",
   "metadata": {},
   "source": [
    "#### There can be minor differences between the ground truth and BDA results, which require a multi-tiered evaluation approach. The following values can be specified for the \"match_type\" when calculating the accuracy of the extraction results. \n",
    "* EXACT\n",
    "* FUZZY\n",
    "* LLM\n",
    "* FUZZY_AND_LLM"
   ]
  },
  {
   "cell_type": "code",
   "execution_count": null,
   "id": "bee4e9ce-146c-4791-a12b-acfd98787f00",
   "metadata": {},
   "outputs": [],
   "source": [
    "exact_match_df = evaluator.calculate_accuracy(comparison_df, match_type=\"EXACT\")\n",
    "fuzzy_match_df = evaluator.calculate_accuracy(comparison_df, match_type=\"FUZZY\")\n",
    "llm_match_df = evaluator.calculate_accuracy(comparison_df, match_type=\"LLM\")\n",
    "llm_and_fuzzy_df = evaluator.calculate_accuracy(comparison_df, match_type=\"FUZZY_AND_LLM\")"
   ]
  },
  {
   "cell_type": "markdown",
   "id": "08cf8285",
   "metadata": {},
   "source": [
    "## Your turn!"
   ]
  },
  {
   "cell_type": "markdown",
   "id": "60a3463d",
   "metadata": {},
   "source": [
    "#### Your task is to update the blueprint schema with additional fields from the ground truth file. You can invoke a new BDA job as many times as you want. The goal is to try and get a 100% accuracy!"
   ]
  },
  {
   "cell_type": "code",
   "execution_count": null,
   "id": "21dbafa3",
   "metadata": {},
   "outputs": [],
   "source": [
    "blueprint_schema = {\n",
    "    \"$schema\": \"http://json-schema.org/draft-07/schema#\",\n",
    "    \"description\": \"This is a blueprint for a pathology report\",\n",
    "    \"class\": \"Pathology Report\",\n",
    "    \"type\": \"object\",\n",
    "    \"definitions\": {},\n",
    "    \"properties\": {\n",
    "        \"hospital_name\": {\n",
    "            \"type\": \"string\",\n",
    "            \"instruction\": \"Name of hospital\"\n",
    "        },\n",
    "        \"has_serum_specimen\": {\n",
    "            \"type\": \"string\",\n",
    "            \"instruction\": \"Whether a serum specimen was collected. Return Yes or No\"\n",
    "        },\n",
    "        \"serum_receiving_date\": {\n",
    "            \"type\": \"string\",\n",
    "            \"instruction\": \"Date in which serum specimen was received. Return the date in this format: MM/DD/YYY. If the date is not explicitly labeled 'Receiving Date', return 'Unknown'.\"\n",
    "        },\n",
    "        \"bilirubin_total\": {\n",
    "            \"type\": \"string\",\n",
    "            \"instruction\": \"Total bilirubin level\"\n",
    "        },\n",
    "        \"enter-field-name\": {\n",
    "            \"type\": \"enter-output-data-type\",\n",
    "            \"instruction\": \"enter-clear-instructions-or-definitions-for-field\"\n",
    "        }\n",
    "    }\n",
    "}"
   ]
  },
  {
   "cell_type": "markdown",
   "id": "b617af38",
   "metadata": {},
   "source": [
    "#### Update blueprint"
   ]
  },
  {
   "cell_type": "code",
   "execution_count": null,
   "id": "5f26a385",
   "metadata": {},
   "outputs": [],
   "source": [
    "bda_processor.update_blueprint(\n",
    "    blueprint_arn=blueprint_arn, \n",
    "    blueprint_schema=blueprint_schema)"
   ]
  },
  {
   "cell_type": "markdown",
   "id": "a7597eae",
   "metadata": {},
   "source": [
    "#### Start job"
   ]
  },
  {
   "cell_type": "code",
   "execution_count": null,
   "id": "826804b8",
   "metadata": {},
   "outputs": [],
   "source": [
    "job_id = bda_processor.start_data_automation(\n",
    "    file_path=\"input_files/pathology_report.pdf\", \n",
    "    blueprint_arn=blueprint_arn)"
   ]
  },
  {
   "cell_type": "markdown",
   "id": "b543c4d0",
   "metadata": {},
   "source": [
    "#### Get job results"
   ]
  },
  {
   "cell_type": "code",
   "execution_count": null,
   "id": "045b4215",
   "metadata": {},
   "outputs": [],
   "source": [
    "bda_processor.get_data_automation_results(job_id=job_id)"
   ]
  },
  {
   "cell_type": "markdown",
   "id": "3c225085",
   "metadata": {},
   "source": [
    "#### Compare results to the ground truth"
   ]
  },
  {
   "cell_type": "code",
   "execution_count": null,
   "id": "b8fd4fdd",
   "metadata": {},
   "outputs": [],
   "source": [
    "comparison_df = evaluator.create_comparison_df(\n",
    "    ground_truth_path=\"input_files/ground_truth.csv\",\n",
    "    results_path=\"output/processed_pathology_report.csv\"\n",
    ")"
   ]
  },
  {
   "cell_type": "code",
   "execution_count": null,
   "id": "b361d64a",
   "metadata": {},
   "outputs": [],
   "source": [
    "comparison_df"
   ]
  },
  {
   "cell_type": "markdown",
   "id": "4f582161",
   "metadata": {},
   "source": [
    "#### Calculate accuracies"
   ]
  },
  {
   "cell_type": "code",
   "execution_count": null,
   "id": "df682ed6",
   "metadata": {},
   "outputs": [],
   "source": [
    "exact_match_df = evaluator.calculate_accuracy(comparison_df, match_type=\"EXACT\")\n",
    "fuzzy_match_df = evaluator.calculate_accuracy(comparison_df, match_type=\"FUZZY\")\n",
    "llm_match_df = evaluator.calculate_accuracy(comparison_df, match_type=\"LLM\")\n",
    "llm_and_fuzzy_df = evaluator.calculate_accuracy(comparison_df, match_type=\"FUZZY_AND_LLM\")"
   ]
  }
 ],
 "metadata": {
  "kernelspec": {
   "display_name": "conda_python3",
   "language": "python",
   "name": "conda_python3"
  },
  "language_info": {
   "codemirror_mode": {
    "name": "ipython",
    "version": 3
   },
   "file_extension": ".py",
   "mimetype": "text/x-python",
   "name": "python",
   "nbconvert_exporter": "python",
   "pygments_lexer": "ipython3",
   "version": "3.10.18"
  }
 },
 "nbformat": 4,
 "nbformat_minor": 5
}
