{
 "cells": [
  {
   "cell_type": "code",
   "execution_count": null,
   "id": "c74afbe0",
   "metadata": {},
   "outputs": [],
   "source": [
    "!pip install -qq -r requirements.txt"
   ]
  },
  {
   "cell_type": "code",
   "execution_count": null,
   "id": "adf8e3d5-c5cd-4e52-9585-342e3a7e83b4",
   "metadata": {},
   "outputs": [],
   "source": [
    "from src.bda_processor import BDAProcessor\n",
    "from src.evaluator import Evaluator"
   ]
  },
  {
   "cell_type": "markdown",
   "id": "c343f941-a163-45f6-ac9d-9477e5d20ba7",
   "metadata": {},
   "source": [
    "# Intelligent Document Processing using Bedrock Data Automation (BDA) "
   ]
  },
  {
   "cell_type": "markdown",
   "id": "a0c6a726-2a45-42b1-9302-a2d8cfc9898f",
   "metadata": {},
   "source": [
    "#### The purpose of this notebook is to demonstrate how to transform unstructured medical data into structured data using Bedrock Data Automation. The BDAProcessor Class has already been implemented to be used in this notebook. The class contains the functions required to:\n",
    "* Create a BDA Project\n",
    "* Create a BDA Blueprint\n",
    "* Start a BDA Invocation"
   ]
  },
  {
   "cell_type": "markdown",
   "id": "2b173bf4-f325-4d3b-9e26-8c6610139ae7",
   "metadata": {},
   "source": [
    "## Configure Bedrock Data Automation Project "
   ]
  },
  {
   "cell_type": "markdown",
   "id": "51014507-b271-49d0-9ea1-6274c605e352",
   "metadata": {},
   "source": [
    "#### Initialize BDAProcessor class"
   ]
  },
  {
   "cell_type": "code",
   "execution_count": null,
   "id": "5895acf8-2f1f-441e-80a0-7e48ad775c3e",
   "metadata": {},
   "outputs": [],
   "source": [
    "bda_processor = BDAProcessor()"
   ]
  },
  {
   "cell_type": "markdown",
   "id": "fa061056-bbe9-4b57-a68a-f6f448b28940",
   "metadata": {},
   "source": [
    "#### Create BDA project (Note: the project name must unique)"
   ]
  },
  {
   "cell_type": "code",
   "execution_count": null,
   "id": "9c81ebc1-3cce-4508-a997-fb0f44596750",
   "metadata": {},
   "outputs": [],
   "source": [
    "project_arn = bda_processor.create_bda_project(project_name=\"bda-project-demo-1\")"
   ]
  },
  {
   "cell_type": "code",
   "execution_count": null,
   "id": "5e84c89f-cc8c-4be1-a554-9568769e74a5",
   "metadata": {},
   "outputs": [],
   "source": [
    "project_arn"
   ]
  },
  {
   "cell_type": "markdown",
   "id": "0846bfe8-0e0f-475a-9a62-ec637f9aa813",
   "metadata": {},
   "source": [
    "## Configure Bedrock Data Automation Blueprint "
   ]
  },
  {
   "cell_type": "markdown",
   "id": "817c28b1-a37f-4769-bdcd-e2129247109c",
   "metadata": {},
   "source": [
    "#### TODO: Your task is to edit the blueprint schema, which contains the instructions used by the LLM to guide the extraction process"
   ]
  },
  {
   "cell_type": "code",
   "execution_count": null,
   "id": "57000a7f-9b13-455e-8795-af728b301197",
   "metadata": {},
   "outputs": [],
   "source": [
    "blueprint_schema = {\n",
    "    \"$schema\": \"http://json-schema.org/draft-07/schema#\",\n",
    "    \"description\": \"This is a blueprint for a pathology report\",\n",
    "    \"class\": \"Pathology Report\",\n",
    "    \"type\": \"object\",\n",
    "    \"definitions\": {},\n",
    "    \"properties\": {\n",
    "        \"hospital_name\": {\n",
    "            \"type\": \"string\",\n",
    "            \"inferenceType\": \"explicit\",\n",
    "            \"instruction\": \"Name of hospital\"\n",
    "        },\n",
    "        \"lab_name\": {\n",
    "            \"type\": \"string\",\n",
    "            \"inferenceType\": \"explicit\",\n",
    "            \"instruction\": \"Name of lab\"\n",
    "        },\n",
    "        \"physician_name\": {\n",
    "            \"type\": \"string\",\n",
    "            \"inferenceType\": \"explicit\",\n",
    "            \"instruction\": \"Name of physician. Return first name and last name as a single string value\"\n",
    "        },\n",
    "        \"has_serum_specimen\": {\n",
    "            \"type\": \"string\",\n",
    "            \"inferenceType\": \"explicit\",\n",
    "            \"instruction\": \"Whether a serum specimen was collected. Return Yes or No\"\n",
    "        },\n",
    "        \"serum_receiving_date\": {\n",
    "            \"type\": \"string\",\n",
    "            \"inferenceType\": \"explicit\",\n",
    "            \"instruction\": \"Date in which serum specimen was received. Return the date in this format: MM/DD/YYY.\"\n",
    "        }\n",
    "    }\n",
    "}\n"
   ]
  },
  {
   "cell_type": "markdown",
   "id": "2e468802-eb6b-4746-9500-06adbe6ea320",
   "metadata": {},
   "source": [
    "#### Create BDA blueprint (Note: the blueprint name must be unique)"
   ]
  },
  {
   "cell_type": "code",
   "execution_count": null,
   "id": "9fce00bb-26e1-48c6-ae47-17c58137391b",
   "metadata": {},
   "outputs": [],
   "source": [
    "blueprint_arn = bda_processor.create_blueprint(\n",
    "    blueprint_name=\"bda-blueprint-demo-1\", \n",
    "    blueprint_schema=blueprint_schema)"
   ]
  },
  {
   "cell_type": "code",
   "execution_count": null,
   "id": "6eba113c-4270-4254-853e-3b02299040d5",
   "metadata": {},
   "outputs": [],
   "source": [
    "blueprint_arn"
   ]
  },
  {
   "cell_type": "markdown",
   "id": "32a9ae7f-a3d9-4281-98dc-789f2b9ad822",
   "metadata": {},
   "source": [
    "## Invoke Bedrock Data Automation Job"
   ]
  },
  {
   "cell_type": "markdown",
   "id": "858b9255-9383-4341-8163-cd4bb7558c54",
   "metadata": {},
   "source": [
    "#### The BDA automation job is asynchronous. A job ID is returned, which can be used later to get the BDA results."
   ]
  },
  {
   "cell_type": "code",
   "execution_count": null,
   "id": "4d0fe124-fe33-4c19-9293-699716b3dbff",
   "metadata": {},
   "outputs": [],
   "source": [
    "job_id = bda_processor.start_data_automation(\n",
    "    file_path=\"input_files/patient_02.pdf\", \n",
    "    blueprint_arn=blueprint_arn)"
   ]
  },
  {
   "cell_type": "code",
   "execution_count": null,
   "id": "4479ff4d-dcd1-4e9f-bde9-9c368d2f317b",
   "metadata": {},
   "outputs": [],
   "source": [
    "job_id"
   ]
  },
  {
   "cell_type": "markdown",
   "id": "9a0643b4-3d48-40d7-a6ac-d8d10ad259fa",
   "metadata": {},
   "source": [
    "#### Get BDA results using the job ID"
   ]
  },
  {
   "cell_type": "code",
   "execution_count": null,
   "id": "a5615d72-cd21-4953-80b4-72d521d57603",
   "metadata": {},
   "outputs": [],
   "source": [
    "bda_results_df = bda_processor.get_data_automation_results(job_id=job_id)"
   ]
  },
  {
   "cell_type": "markdown",
   "id": "ee4aa2f5-4dd8-4c0f-bb0f-9d006d3d798a",
   "metadata": {},
   "source": [
    "## BDA Extraction Results"
   ]
  },
  {
   "cell_type": "markdown",
   "id": "536bb134-28a9-48c6-9f4b-ab3eec4a7396",
   "metadata": {},
   "source": [
    "#### Initialize Evaluator class"
   ]
  },
  {
   "cell_type": "code",
   "execution_count": null,
   "id": "63e9fcd1-3c8e-429c-8a81-b9d52c2e636e",
   "metadata": {},
   "outputs": [],
   "source": [
    "evaluator = Evaluator()"
   ]
  },
  {
   "cell_type": "markdown",
   "id": "fb3f95e9-99c9-467b-83d5-6df4ac7e6d54",
   "metadata": {},
   "source": [
    "#### Create comparison dataframe that joins the ground truth and LLM results"
   ]
  },
  {
   "cell_type": "code",
   "execution_count": null,
   "id": "7df3eb21-1d67-40cd-81d9-c6c015dc8f5c",
   "metadata": {},
   "outputs": [],
   "source": [
    "comparison_df = evaluator.create_comparison_df(\n",
    "    ground_truth_path=\"ground_truth.csv\",\n",
    "    results_path=\"output/results/bda_results/patient_02_bda_results.csv\"\n",
    ")"
   ]
  },
  {
   "cell_type": "code",
   "execution_count": null,
   "id": "0768a383-229c-49ef-a72f-172fec7646db",
   "metadata": {},
   "outputs": [],
   "source": [
    "comparison_df"
   ]
  },
  {
   "cell_type": "markdown",
   "id": "eb29f3ce-42ec-4dc5-88f4-980887bae919",
   "metadata": {},
   "source": [
    "## Perform LLM Evaluation"
   ]
  },
  {
   "cell_type": "markdown",
   "id": "6f7f012e-a7a0-4264-805e-2e2a2c12656d",
   "metadata": {},
   "source": [
    "#### Oftentimes, the extracted results do not perfectly match the ground truth results. As such, we may want to use additional evaluation methods, such as fuzzy match or LLM match to handle these imperfections. The following values can be specified for the \"match_type\" when calculating the accuracy of the extraction results. In order to use the LLM match, you must first request access to \"Claude 3.5 Haiku\" from the Bedrock Console.\n",
    "* EXACT\n",
    "* FUZZY\n",
    "* LLM\n",
    "* FUZZY_AND_LLM"
   ]
  },
  {
   "cell_type": "code",
   "execution_count": null,
   "id": "bee4e9ce-146c-4791-a12b-acfd98787f00",
   "metadata": {},
   "outputs": [],
   "source": [
    "exact_match_df = evaluator.calculate_accuracy(comparison_df, match_type=\"EXACT\")\n",
    "fuzzy_match_df = evaluator.calculate_accuracy(comparison_df, match_type=\"FUZZY\")\n",
    "llm_match_df = evaluator.calculate_accuracy(comparison_df, match_type=\"LLM\")\n",
    "llm_and_fuzzy_df = evaluator.calculate_accuracy(comparison_df, match_type=\"FUZZY_AND_LLM\")"
   ]
  },
  {
   "cell_type": "code",
   "execution_count": null,
   "id": "6d594b94-cc8f-497b-b8ba-b3147c53fcdf",
   "metadata": {},
   "outputs": [],
   "source": []
  }
 ],
 "metadata": {
  "kernelspec": {
   "display_name": "conda_python3",
   "language": "python",
   "name": "conda_python3"
  },
  "language_info": {
   "codemirror_mode": {
    "name": "ipython",
    "version": 3
   },
   "file_extension": ".py",
   "mimetype": "text/x-python",
   "name": "python",
   "nbconvert_exporter": "python",
   "pygments_lexer": "ipython3",
   "version": "3.10.18"
  }
 },
 "nbformat": 4,
 "nbformat_minor": 5
}
