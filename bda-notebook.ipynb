{
 "cells": [
  {
   "cell_type": "code",
   "execution_count": 1,
   "id": "adf8e3d5-c5cd-4e52-9585-342e3a7e83b4",
   "metadata": {},
   "outputs": [
    {
     "name": "stderr",
     "output_type": "stream",
     "text": [
      "/home/ec2-user/anaconda3/envs/python3/lib/python3.10/site-packages/pandas/core/computation/expressions.py:21: UserWarning: Pandas requires version '2.8.4' or newer of 'numexpr' (version '2.7.3' currently installed).\n",
      "  from pandas.core.computation.check import NUMEXPR_INSTALLED\n"
     ]
    }
   ],
   "source": [
    "from src.bda_processor import BDAProcessor\n",
    "from src.evaluator import Evaluator"
   ]
  },
  {
   "cell_type": "markdown",
   "id": "c343f941-a163-45f6-ac9d-9477e5d20ba7",
   "metadata": {},
   "source": [
    "# Intelligent Document Processing using Bedrock Data Automation (BDA) "
   ]
  },
  {
   "cell_type": "markdown",
   "id": "a0c6a726-2a45-42b1-9302-a2d8cfc9898f",
   "metadata": {},
   "source": [
    "#### The purpose of this notebook is to demonstrate how to transform unstructured medical data into structured data using Bedrock Data Automation. The BDAProcessor Class has already been implemented to be used in this notebook. The class contains the functions required to:\n",
    "* Create a BDA Project\n",
    "* Create a BDA Blueprint\n",
    "* Start a BDA Invocation"
   ]
  },
  {
   "cell_type": "markdown",
   "id": "2b173bf4-f325-4d3b-9e26-8c6610139ae7",
   "metadata": {},
   "source": [
    "## Configure Bedrock Data Automation Project "
   ]
  },
  {
   "cell_type": "markdown",
   "id": "51014507-b271-49d0-9ea1-6274c605e352",
   "metadata": {},
   "source": [
    "#### Initialize BDAProcessor class"
   ]
  },
  {
   "cell_type": "code",
   "execution_count": 2,
   "id": "5895acf8-2f1f-441e-80a0-7e48ad775c3e",
   "metadata": {},
   "outputs": [],
   "source": [
    "bda_processor = BDAProcessor()"
   ]
  },
  {
   "cell_type": "markdown",
   "id": "fa061056-bbe9-4b57-a68a-f6f448b28940",
   "metadata": {},
   "source": [
    "#### Create BDA project (Note: the project name must unique)"
   ]
  },
  {
   "cell_type": "code",
   "execution_count": 4,
   "id": "9c81ebc1-3cce-4508-a997-fb0f44596750",
   "metadata": {},
   "outputs": [],
   "source": [
    "project_arn = bda_processor.create_bda_project(project_name=\"bda-project-demo-1\")"
   ]
  },
  {
   "cell_type": "code",
   "execution_count": 5,
   "id": "5e84c89f-cc8c-4be1-a554-9568769e74a5",
   "metadata": {},
   "outputs": [
    {
     "data": {
      "text/plain": [
       "'arn:aws:bedrock:us-east-1:839300737906:data-automation-project/4fe5c8f03f96'"
      ]
     },
     "execution_count": 5,
     "metadata": {},
     "output_type": "execute_result"
    }
   ],
   "source": [
    "project_arn"
   ]
  },
  {
   "cell_type": "markdown",
   "id": "0846bfe8-0e0f-475a-9a62-ec637f9aa813",
   "metadata": {},
   "source": [
    "## Configure Bedrock Data Automation Blueprint "
   ]
  },
  {
   "cell_type": "markdown",
   "id": "817c28b1-a37f-4769-bdcd-e2129247109c",
   "metadata": {},
   "source": [
    "#### TODO: Your task is to edit the blueprint schema, which contains the instructions used by the LLM to guide the extraction process"
   ]
  },
  {
   "cell_type": "code",
   "execution_count": null,
   "id": "57000a7f-9b13-455e-8795-af728b301197",
   "metadata": {},
   "outputs": [],
   "source": [
    "blueprint_schema = {\n",
    "    \"$schema\": \"http://json-schema.org/draft-07/schema#\",\n",
    "    \"description\": \"This is a blueprint for a pathology report\",\n",
    "    \"class\": \"Pathology Report\",\n",
    "    \"type\": \"object\",\n",
    "    \"definitions\": {},\n",
    "    \"properties\": {\n",
    "        \"hospital_name\": {\n",
    "            \"type\": \"string\",\n",
    "            \"inferenceType\": \"explicit\",\n",
    "            \"instruction\": \"Name of hospital\"\n",
    "        },\n",
    "        \"lab_name\": {\n",
    "            \"type\": \"string\",\n",
    "            \"inferenceType\": \"explicit\",\n",
    "            \"instruction\": \"Name of lab\"\n",
    "        },\n",
    "        \"physician_name\": {\n",
    "            \"type\": \"string\",\n",
    "            \"inferenceType\": \"explicit\",\n",
    "            \"instruction\": \"Name of physician. Return first name and last name as a single string value\"\n",
    "        },\n",
    "        \"has_serum_specimen\": {\n",
    "            \"type\": \"string\",\n",
    "            \"inferenceType\": \"explicit\",\n",
    "            \"instruction\": \"Whether a serum specimen was collected. Return Yes or No\"\n",
    "        },\n",
    "        \"serum_receiving_date\": {\n",
    "            \"type\": \"string\",\n",
    "            \"inferenceType\": \"explicit\",\n",
    "            \"instruction\": \"Date in which serum specimen was received. Return the date in this format: MM/DD/YYY. If the date is not explicitly labeled 'Receiving Date', return 'Unknown'.\"\n",
    "        },\n",
    "        \"serum_reporting_date\": {\n",
    "            \"type\": \"string\",\n",
    "            \"inferenceType\": \"explicit\",\n",
    "            \"instruction\": \"Date in which serum specimen was reported. Return the date in this format: MM/DD/YYY\"\n",
    "        },\n",
    "        \"serum_turnaround_time\": {\n",
    "            \"type\": \"string\",\n",
    "            \"inferenceType\": \"explicit\",\n",
    "            \"instruction\": \"Turnaround time (TAT) for serum specimen\"\n",
    "        },\n",
    "        \"bilirubin_total\": {\n",
    "            \"type\": \"string\",\n",
    "            \"inferenceType\": \"explicit\",\n",
    "            \"instruction\": \"Total bilirubin level\"\n",
    "        },\n",
    "        \"bilirubin_total_unit\": {\n",
    "            \"type\": \"string\",\n",
    "            \"inferenceType\": \"explicit\",\n",
    "            \"instruction\": \"Total bilirubin unit\"\n",
    "        },\n",
    "        \"bilirubin_level\": {\n",
    "            \"type\": \"string\",\n",
    "            \"inferenceType\": \"explicit\",\n",
    "            \"instruction\": \"High, low, or normal total bilirubin level. Return H, L, or N\"\n",
    "        },\n",
    "        \"bilirubin_conjugated\": {\n",
    "            \"type\": \"string\",\n",
    "            \"inferenceType\": \"explicit\",\n",
    "            \"instruction\": \"Conjugated bilirubin level\"\n",
    "        },\n",
    "        \"bilirubin_conjugated_unit\": {\n",
    "            \"type\": \"string\",\n",
    "            \"inferenceType\": \"explicit\",\n",
    "            \"instruction\": \"Conjugated bilirubin unit\"\n",
    "        },\n",
    "        \"bilirubin_conjugated_level\": {\n",
    "            \"type\": \"string\",\n",
    "            \"inferenceType\": \"explicit\",\n",
    "            \"instruction\": \"High, low, or normal conjugated bilirubin level. Return H, L, or N\"\n",
    "        },\n",
    "        \"bilirubin_unconjugated\": {\n",
    "            \"type\": \"string\",\n",
    "            \"inferenceType\": \"explicit\",\n",
    "            \"instruction\": \"Unconjugated bilirubin level\"\n",
    "        },\n",
    "        \"bilirubin_unconjugated_unit\": {\n",
    "            \"type\": \"string\",\n",
    "            \"inferenceType\": \"explicit\",\n",
    "            \"instruction\": \"Unconjugated bilirubin unit\"\n",
    "        },\n",
    "        \"bilirubin_unconjugated_level\": {\n",
    "            \"type\": \"string\",\n",
    "            \"inferenceType\": \"explicit\",\n",
    "            \"instruction\": \"High, low, or normal unconjugated bilirubin level. Return H, L, or N\"\n",
    "        },\n",
    "        \"has_blood_specimen\": {\n",
    "            \"type\": \"string\",\n",
    "            \"inferenceType\": \"explicit\",\n",
    "            \"instruction\": \"Whether a blood specimen was collected. Return Yes or No\"\n",
    "        },\n",
    "        \"blood_receiving_date\": {\n",
    "            \"type\": \"string\",\n",
    "            \"inferenceType\": \"explicit\",\n",
    "            \"instruction\": \"Date in which blood specimen was received. Return the date in this format: MM/DD/YYY\"\n",
    "        },\n",
    "        \"blood_reporting_date\": {\n",
    "            \"type\": \"string\",\n",
    "            \"inferenceType\": \"explicit\",\n",
    "            \"instruction\": \"Date in which blood specimen was reported. Return the date in this format: MM/DD/YYY\"\n",
    "        },\n",
    "        \"blood_turnaround_time\": {\n",
    "            \"type\": \"string\",\n",
    "            \"inferenceType\": \"explicit\",\n",
    "            \"instruction\": \"Turnaround time (TAT) for blood specimen\"\n",
    "        },\n",
    "        \"ammonia\": {\n",
    "            \"type\": \"string\",\n",
    "            \"inferenceType\": \"explicit\",\n",
    "            \"instruction\": \"Ammonia level\"\n",
    "        },\n",
    "        \"ammonia_unit\": {\n",
    "            \"type\": \"string\",\n",
    "            \"inferenceType\": \"explicit\",\n",
    "            \"instruction\": \"Ammonia unit\"\n",
    "        },\n",
    "        \"ammonia_level\": {\n",
    "            \"type\": \"string\",\n",
    "            \"inferenceType\": \"explicit\",\n",
    "            \"instruction\": \"High, low, or normal ammonia level. Return H, L, or N\"\n",
    "        }\n",
    "    }\n",
    "}\n"
   ]
  },
  {
   "cell_type": "markdown",
   "id": "2e468802-eb6b-4746-9500-06adbe6ea320",
   "metadata": {},
   "source": [
    "#### Create BDA blueprint (Note: the blueprint name must be unique)"
   ]
  },
  {
   "cell_type": "code",
   "execution_count": 8,
   "id": "9fce00bb-26e1-48c6-ae47-17c58137391b",
   "metadata": {},
   "outputs": [],
   "source": [
    "blueprint_arn = bda_processor.create_blueprint(\n",
    "    blueprint_name=\"bda-blueprint-demo-1\", \n",
    "    blueprint_schema=blueprint_schema)"
   ]
  },
  {
   "cell_type": "code",
   "execution_count": 9,
   "id": "6eba113c-4270-4254-853e-3b02299040d5",
   "metadata": {},
   "outputs": [
    {
     "data": {
      "text/plain": [
       "'arn:aws:bedrock:us-east-1:839300737906:blueprint/d8a1b1b72c88'"
      ]
     },
     "execution_count": 9,
     "metadata": {},
     "output_type": "execute_result"
    }
   ],
   "source": [
    "blueprint_arn"
   ]
  },
  {
   "cell_type": "markdown",
   "id": "32a9ae7f-a3d9-4281-98dc-789f2b9ad822",
   "metadata": {},
   "source": [
    "## Invoke Bedrock Data Automation Job"
   ]
  },
  {
   "cell_type": "markdown",
   "id": "858b9255-9383-4341-8163-cd4bb7558c54",
   "metadata": {},
   "source": [
    "#### The BDA automation job is asynchronous. A job ID is returned, which can be used later to get the BDA results."
   ]
  },
  {
   "cell_type": "code",
   "execution_count": 10,
   "id": "4d0fe124-fe33-4c19-9293-699716b3dbff",
   "metadata": {},
   "outputs": [],
   "source": [
    "job_id = bda_processor.start_data_automation(\n",
    "    file_path=\"input_files/patient_02.pdf\", \n",
    "    blueprint_arn=blueprint_arn)"
   ]
  },
  {
   "cell_type": "code",
   "execution_count": 11,
   "id": "4479ff4d-dcd1-4e9f-bde9-9c368d2f317b",
   "metadata": {},
   "outputs": [
    {
     "data": {
      "text/plain": [
       "'7d366621-582b-4d4c-a11f-a7881e4c227f'"
      ]
     },
     "execution_count": 11,
     "metadata": {},
     "output_type": "execute_result"
    }
   ],
   "source": [
    "job_id"
   ]
  },
  {
   "cell_type": "markdown",
   "id": "9a0643b4-3d48-40d7-a6ac-d8d10ad259fa",
   "metadata": {},
   "source": [
    "#### Get BDA results using the job ID"
   ]
  },
  {
   "cell_type": "code",
   "execution_count": 12,
   "id": "a5615d72-cd21-4953-80b4-72d521d57603",
   "metadata": {},
   "outputs": [],
   "source": [
    "bda_results_df = bda_processor.get_data_automation_results(job_id=job_id)"
   ]
  },
  {
   "cell_type": "markdown",
   "id": "ee4aa2f5-4dd8-4c0f-bb0f-9d006d3d798a",
   "metadata": {},
   "source": [
    "## BDA Extraction Results"
   ]
  },
  {
   "cell_type": "markdown",
   "id": "536bb134-28a9-48c6-9f4b-ab3eec4a7396",
   "metadata": {},
   "source": [
    "#### Initialize Evaluator class"
   ]
  },
  {
   "cell_type": "code",
   "execution_count": 13,
   "id": "63e9fcd1-3c8e-429c-8a81-b9d52c2e636e",
   "metadata": {},
   "outputs": [],
   "source": [
    "evaluator = Evaluator()"
   ]
  },
  {
   "cell_type": "markdown",
   "id": "fb3f95e9-99c9-467b-83d5-6df4ac7e6d54",
   "metadata": {},
   "source": [
    "#### Create comparison dataframe that joins the ground truth and LLM results"
   ]
  },
  {
   "cell_type": "code",
   "execution_count": 14,
   "id": "7df3eb21-1d67-40cd-81d9-c6c015dc8f5c",
   "metadata": {},
   "outputs": [],
   "source": [
    "comparison_df = evaluator.create_comparison_df(\n",
    "    ground_truth_path=\"ground_truth.csv\",\n",
    "    results_path=\"output/results/bda_results/patient_02_bda_results.csv\"\n",
    ")"
   ]
  },
  {
   "cell_type": "code",
   "execution_count": 15,
   "id": "0768a383-229c-49ef-a72f-172fec7646db",
   "metadata": {},
   "outputs": [
    {
     "data": {
      "text/html": [
       "<div>\n",
       "<style scoped>\n",
       "    .dataframe tbody tr th:only-of-type {\n",
       "        vertical-align: middle;\n",
       "    }\n",
       "\n",
       "    .dataframe tbody tr th {\n",
       "        vertical-align: top;\n",
       "    }\n",
       "\n",
       "    .dataframe thead th {\n",
       "        text-align: right;\n",
       "    }\n",
       "</style>\n",
       "<table border=\"1\" class=\"dataframe\">\n",
       "  <thead>\n",
       "    <tr style=\"text-align: right;\">\n",
       "      <th></th>\n",
       "      <th>field_name</th>\n",
       "      <th>field_value</th>\n",
       "      <th>bda_value</th>\n",
       "    </tr>\n",
       "  </thead>\n",
       "  <tbody>\n",
       "    <tr>\n",
       "      <th>0</th>\n",
       "      <td>hospital_name</td>\n",
       "      <td>Sarvodaya Hospital</td>\n",
       "      <td>SARVODAYA HOSPITAL</td>\n",
       "    </tr>\n",
       "    <tr>\n",
       "      <th>1</th>\n",
       "      <td>lab_name</td>\n",
       "      <td>Diagnostic Point Pathology Labs</td>\n",
       "      <td>Diagnostic Point Pathology Labs</td>\n",
       "    </tr>\n",
       "    <tr>\n",
       "      <th>2</th>\n",
       "      <td>physician_name</td>\n",
       "      <td>Atul Kapila</td>\n",
       "      <td>Dr. (Capt) Atul Kapila</td>\n",
       "    </tr>\n",
       "    <tr>\n",
       "      <th>3</th>\n",
       "      <td>has_serum_specimen</td>\n",
       "      <td>Yes</td>\n",
       "      <td>Yes</td>\n",
       "    </tr>\n",
       "    <tr>\n",
       "      <th>4</th>\n",
       "      <td>serum_receiving_date</td>\n",
       "      <td>Unknown</td>\n",
       "      <td>04/18/2025</td>\n",
       "    </tr>\n",
       "    <tr>\n",
       "      <th>5</th>\n",
       "      <td>serum_reporting_date</td>\n",
       "      <td>Unknown</td>\n",
       "      <td>04/18/2025</td>\n",
       "    </tr>\n",
       "    <tr>\n",
       "      <th>6</th>\n",
       "      <td>serum_turnaround_time</td>\n",
       "      <td>Unknown</td>\n",
       "      <td>2 Hours 29 Minute</td>\n",
       "    </tr>\n",
       "    <tr>\n",
       "      <th>7</th>\n",
       "      <td>bilirubin_total</td>\n",
       "      <td>9.42</td>\n",
       "      <td>9.42</td>\n",
       "    </tr>\n",
       "    <tr>\n",
       "      <th>8</th>\n",
       "      <td>bilirubin_total_unit</td>\n",
       "      <td>mg/dl</td>\n",
       "      <td>mg/dl</td>\n",
       "    </tr>\n",
       "    <tr>\n",
       "      <th>9</th>\n",
       "      <td>bilirubin_level</td>\n",
       "      <td>H</td>\n",
       "      <td>H</td>\n",
       "    </tr>\n",
       "    <tr>\n",
       "      <th>10</th>\n",
       "      <td>bilirubin_conjugated</td>\n",
       "      <td>7.79</td>\n",
       "      <td>7.79</td>\n",
       "    </tr>\n",
       "    <tr>\n",
       "      <th>11</th>\n",
       "      <td>bilirubin_conjugated_unit</td>\n",
       "      <td>mg/dl</td>\n",
       "      <td>mg/dL</td>\n",
       "    </tr>\n",
       "    <tr>\n",
       "      <th>12</th>\n",
       "      <td>bilirubin_conjugated_level</td>\n",
       "      <td>H</td>\n",
       "      <td>H</td>\n",
       "    </tr>\n",
       "    <tr>\n",
       "      <th>13</th>\n",
       "      <td>bilirubin_unconjugated</td>\n",
       "      <td>1.63</td>\n",
       "      <td>1.63</td>\n",
       "    </tr>\n",
       "    <tr>\n",
       "      <th>14</th>\n",
       "      <td>bilirubin_unconjugated_unit</td>\n",
       "      <td>mg/dl</td>\n",
       "      <td>mg/dl</td>\n",
       "    </tr>\n",
       "    <tr>\n",
       "      <th>15</th>\n",
       "      <td>bilirubin_unconjugated_level</td>\n",
       "      <td>H</td>\n",
       "      <td>H</td>\n",
       "    </tr>\n",
       "    <tr>\n",
       "      <th>16</th>\n",
       "      <td>has_blood_specimen</td>\n",
       "      <td>Yes</td>\n",
       "      <td>Yes</td>\n",
       "    </tr>\n",
       "    <tr>\n",
       "      <th>17</th>\n",
       "      <td>blood_receiving_date</td>\n",
       "      <td>4/18/25</td>\n",
       "      <td>04/18/2025</td>\n",
       "    </tr>\n",
       "    <tr>\n",
       "      <th>18</th>\n",
       "      <td>blood_reporting_date</td>\n",
       "      <td>4/18/25</td>\n",
       "      <td>04/18/2025</td>\n",
       "    </tr>\n",
       "    <tr>\n",
       "      <th>19</th>\n",
       "      <td>blood_turnaround_time</td>\n",
       "      <td>3 Hours 2 Minutes</td>\n",
       "      <td>3 Hours 2 Minute</td>\n",
       "    </tr>\n",
       "    <tr>\n",
       "      <th>20</th>\n",
       "      <td>ammonia</td>\n",
       "      <td>119.8</td>\n",
       "      <td>119.8</td>\n",
       "    </tr>\n",
       "    <tr>\n",
       "      <th>21</th>\n",
       "      <td>ammonia_unit</td>\n",
       "      <td>ug/dl</td>\n",
       "      <td>ug/dl</td>\n",
       "    </tr>\n",
       "    <tr>\n",
       "      <th>22</th>\n",
       "      <td>ammonia_level</td>\n",
       "      <td>H</td>\n",
       "      <td>H</td>\n",
       "    </tr>\n",
       "  </tbody>\n",
       "</table>\n",
       "</div>"
      ],
      "text/plain": [
       "                      field_name                       field_value  \\\n",
       "0                  hospital_name                Sarvodaya Hospital   \n",
       "1                       lab_name  Diagnostic Point Pathology Labs    \n",
       "2                 physician_name                       Atul Kapila   \n",
       "3             has_serum_specimen                               Yes   \n",
       "4           serum_receiving_date                           Unknown   \n",
       "5           serum_reporting_date                           Unknown   \n",
       "6          serum_turnaround_time                           Unknown   \n",
       "7                bilirubin_total                              9.42   \n",
       "8           bilirubin_total_unit                             mg/dl   \n",
       "9                bilirubin_level                                 H   \n",
       "10          bilirubin_conjugated                              7.79   \n",
       "11     bilirubin_conjugated_unit                             mg/dl   \n",
       "12    bilirubin_conjugated_level                                 H   \n",
       "13        bilirubin_unconjugated                              1.63   \n",
       "14   bilirubin_unconjugated_unit                             mg/dl   \n",
       "15  bilirubin_unconjugated_level                                 H   \n",
       "16            has_blood_specimen                               Yes   \n",
       "17          blood_receiving_date                           4/18/25   \n",
       "18          blood_reporting_date                           4/18/25   \n",
       "19         blood_turnaround_time                 3 Hours 2 Minutes   \n",
       "20                       ammonia                             119.8   \n",
       "21                  ammonia_unit                             ug/dl   \n",
       "22                 ammonia_level                                 H   \n",
       "\n",
       "                          bda_value  \n",
       "0                SARVODAYA HOSPITAL  \n",
       "1   Diagnostic Point Pathology Labs  \n",
       "2            Dr. (Capt) Atul Kapila  \n",
       "3                               Yes  \n",
       "4                        04/18/2025  \n",
       "5                        04/18/2025  \n",
       "6                 2 Hours 29 Minute  \n",
       "7                              9.42  \n",
       "8                             mg/dl  \n",
       "9                                 H  \n",
       "10                             7.79  \n",
       "11                            mg/dL  \n",
       "12                                H  \n",
       "13                             1.63  \n",
       "14                            mg/dl  \n",
       "15                                H  \n",
       "16                              Yes  \n",
       "17                       04/18/2025  \n",
       "18                       04/18/2025  \n",
       "19                 3 Hours 2 Minute  \n",
       "20                            119.8  \n",
       "21                            ug/dl  \n",
       "22                                H  "
      ]
     },
     "execution_count": 15,
     "metadata": {},
     "output_type": "execute_result"
    }
   ],
   "source": [
    "comparison_df"
   ]
  },
  {
   "cell_type": "markdown",
   "id": "eb29f3ce-42ec-4dc5-88f4-980887bae919",
   "metadata": {},
   "source": [
    "## Perform LLM Evaluation"
   ]
  },
  {
   "cell_type": "markdown",
   "id": "6f7f012e-a7a0-4264-805e-2e2a2c12656d",
   "metadata": {},
   "source": [
    "#### Oftentimes, the extracted results do not perfectly match the ground truth results. As such, we may want to use additional evaluation methods, such as fuzzy match or LLM match to handle these imperfections. The following values can be specified for the \"match_type\" when calculating the accuracy of the extraction results.\n",
    "* EXACT\n",
    "* FUZZY\n",
    "* LLM\n",
    "* FUZZY_AND_LLM"
   ]
  },
  {
   "cell_type": "code",
   "execution_count": 16,
   "id": "bee4e9ce-146c-4791-a12b-acfd98787f00",
   "metadata": {},
   "outputs": [
    {
     "name": "stdout",
     "output_type": "stream",
     "text": [
      "Exact match accuracy: 56.52%\n",
      "Fuzzy match accuracy: 82.61%\n",
      "LLM match accuracy: 86.96%\n",
      "LLM and Fuzzy match accuracy: 86.96%\n"
     ]
    }
   ],
   "source": [
    "exact_match_df = evaluator.calculate_accuracy(comparison_df, match_type=\"EXACT\")\n",
    "fuzzy_match_df = evaluator.calculate_accuracy(comparison_df, match_type=\"FUZZY\")\n",
    "llm_match_df = evaluator.calculate_accuracy(comparison_df, match_type=\"LLM\")\n",
    "llm_and_fuzzy_df = evaluator.calculate_accuracy(comparison_df, match_type=\"FUZZY_AND_LLM\")"
   ]
  },
  {
   "cell_type": "code",
   "execution_count": null,
   "id": "6d594b94-cc8f-497b-b8ba-b3147c53fcdf",
   "metadata": {},
   "outputs": [],
   "source": []
  }
 ],
 "metadata": {
  "kernelspec": {
   "display_name": "conda_python3",
   "language": "python",
   "name": "conda_python3"
  },
  "language_info": {
   "codemirror_mode": {
    "name": "ipython",
    "version": 3
   },
   "file_extension": ".py",
   "mimetype": "text/x-python",
   "name": "python",
   "nbconvert_exporter": "python",
   "pygments_lexer": "ipython3",
   "version": "3.10.18"
  }
 },
 "nbformat": 4,
 "nbformat_minor": 5
}
